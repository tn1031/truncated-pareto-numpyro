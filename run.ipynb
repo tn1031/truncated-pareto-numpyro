{
 "cells": [
  {
   "cell_type": "code",
   "execution_count": 1,
   "metadata": {},
   "outputs": [],
   "source": [
    "import jax\n",
    "import numpy as np\n",
    "import numpyro\n",
    "import numpyro.distributions as dist\n",
    "import matplotlib.pyplot as plt\n",
    "import scipy\n",
    "from numpyro.infer import MCMC, NUTS\n",
    "\n",
    "from truncated_pareto import TruncatedPareto"
   ]
  },
  {
   "cell_type": "code",
   "execution_count": 2,
   "metadata": {},
   "outputs": [],
   "source": [
    "scale = 10.0\n",
    "alpha = 2.0\n",
    "low = 15.0\n",
    "high = 100.0"
   ]
  },
  {
   "cell_type": "code",
   "execution_count": 3,
   "metadata": {},
   "outputs": [],
   "source": [
    "# numpyro\n",
    "samples_numpyro = TruncatedPareto(scale, alpha, low, high).sample(jax.random.PRNGKey(0), (10000,))\n",
    "\n",
    "# scipy\n",
    "samples_scipy = scipy.stats.pareto.rvs(b=2, scale=10, size=10000)\n",
    "samples_scipy = samples_scipy[(samples_scipy > low) & (samples_scipy < high)]"
   ]
  },
  {
   "cell_type": "code",
   "execution_count": 4,
   "metadata": {},
   "outputs": [
    {
     "data": {
      "text/plain": [
       "<matplotlib.legend.Legend at 0x13bceaa40>"
      ]
     },
     "execution_count": 4,
     "metadata": {},
     "output_type": "execute_result"
    },
    {
     "data": {
      "image/png": "[encoded data removed]",
      "text/plain": [
       "<Figure size 640x480 with 1 Axes>"
      ]
     },
     "metadata": {},
     "output_type": "display_data"
    }
   ],
   "source": [
    "fig, ax = plt.subplots(1, 1)\n",
    "ax.hist(np.asarray(samples_numpyro), bins=20, density=True, label=\"Samples from numpyro\")\n",
    "ax.hist(samples_scipy, bins=20, density=True, alpha=0.5, label=\"Samples from scipy\")\n",
    "ax.axvline(15, linestyle=\":\", color=\"k\", label=\"Truncation point\")\n",
    "ax.axvline(100, linestyle=\":\", color=\"k\")\n",
    "ax.legend()"
   ]
  },
  {
   "cell_type": "code",
   "execution_count": 5,
   "metadata": {},
   "outputs": [
    {
     "name": "stderr",
     "output_type": "stream",
     "text": [
      "sample: 100%|██████████| 1500/1500 [00:01<00:00, 772.30it/s, 7 steps of size 4.13e-01. acc. prob=0.93]  \n"
     ]
    },
    {
     "name": "stdout",
     "output_type": "stream",
     "text": [
      "\n",
      "                mean       std    median      5.0%     95.0%     n_eff     r_hat\n",
      "     alpha      2.12      0.03      2.12      2.06      2.17    556.78      1.00\n",
      "      high    100.77      1.23    100.44     99.57    102.37    847.73      1.00\n",
      "       low     15.00      0.00     15.00     15.00     15.00    715.23      1.00\n",
      "     scale     10.83      0.08     10.84     10.72     10.96    503.15      1.00\n",
      "\n",
      "Number of divergences: 0\n"
     ]
    }
   ],
   "source": [
    "def model(num_samples, x=None, min_x=None, max_x=None):\n",
    "    scale = numpyro.sample(\"scale\", dist.LogNormal())\n",
    "    alpha = numpyro.sample(\"alpha\", dist.LogNormal())\n",
    "    low = numpyro.sample(\"low\", dist.TruncatedDistribution(dist.Cauchy(), low=0, high=min_x))\n",
    "    high = numpyro.sample(\"high\", dist.TruncatedDistribution(dist.Cauchy(), low=max_x))\n",
    "    with numpyro.plate(\"observations\", num_samples):\n",
    "        numpyro.sample(\"x\", TruncatedPareto(scale, alpha, low, high), obs=x)\n",
    "\n",
    "inputs = dict(num_samples=len(samples_scipy), x=samples_scipy, min_x=np.min(samples_scipy), max_x=np.max(samples_scipy))\n",
    "\n",
    "kernel = NUTS(model)\n",
    "mcmc = MCMC(kernel, num_samples=1000, num_warmup=500, num_chains=1)\n",
    "mcmc.run(jax.random.PRNGKey(0), **inputs)\n",
    "mcmc.print_summary()"
   ]
  },
  {
   "cell_type": "code",
   "execution_count": 6,
   "metadata": {},
   "outputs": [
    {
     "name": "stderr",
     "output_type": "stream",
     "text": [
      "sample: 100%|██████████| 1500/1500 [00:01<00:00, 774.17it/s, 15 steps of size 3.56e-01. acc. prob=0.92] "
     ]
    },
    {
     "name": "stdout",
     "output_type": "stream",
     "text": [
      "\n",
      "                mean       std    median      5.0%     95.0%     n_eff     r_hat\n",
      "  alpha[0]      1.96      0.10      1.96      1.81      2.13    670.95      1.00\n",
      "  alpha[1]      1.18      0.06      1.18      1.08      1.29    735.25      1.00\n",
      "  alpha[2]      0.57      0.03      0.57      0.51      0.62    687.17      1.00\n",
      "   high[0]    137.29    397.23    106.35     99.35    131.72    675.21      1.00\n",
      "   high[1]    102.48      3.25    101.43     99.35    106.90   1460.94      1.00\n",
      "   high[2]    100.88      1.60    100.40     99.35    102.70   1007.52      1.00\n",
      "    low[0]     14.99      0.02     15.00     14.97     15.01   1040.51      1.00\n",
      "    low[1]     14.98      0.02     14.99     14.95     15.01   1324.53      1.00\n",
      "    low[2]     14.97      0.04     14.98     14.91     15.01   1308.64      1.00\n",
      "  scale[0]     10.53      0.24     10.53     10.13     10.90    739.62      1.00\n",
      "  scale[1]      8.50      0.32      8.51      7.97      9.02    774.19      1.00\n",
      "  scale[2]      5.21      0.36      5.20      4.59      5.78    707.43      1.00\n",
      "\n",
      "Number of divergences: 0\n"
     ]
    },
    {
     "name": "stderr",
     "output_type": "stream",
     "text": [
      "\n"
     ]
    }
   ],
   "source": [
    "# multivariate\n",
    "\n",
    "scale = np.array([10.0, 15, 20])\n",
    "alpha = np.array([2.0] * 3)\n",
    "low = np.array([15.0, 20, 40])\n",
    "high = np.array([100.0])\n",
    "\n",
    "x = TruncatedPareto(scale, alpha, low, high).sample(jax.random.PRNGKey(0), (500,))\n",
    "\n",
    "def model(x):\n",
    "    num_samples, num_dims = x.shape\n",
    "    min_x = jax.numpy.min(x)\n",
    "    max_x = jax.numpy.max(x)\n",
    "\n",
    "    scale = numpyro.sample(\"scale\", dist.LogNormal().expand([num_dims]))\n",
    "    alpha = numpyro.sample(\"alpha\", dist.LogNormal().expand([num_dims]))\n",
    "    low = numpyro.sample(\"low\", dist.TruncatedDistribution(dist.Cauchy(), low=0, high=min_x).expand([num_dims]))\n",
    "    high = numpyro.sample(\"high\", dist.TruncatedDistribution(dist.Cauchy(), low=max_x).expand([num_dims]))\n",
    "    with numpyro.plate(\"observations\", num_samples):\n",
    "        numpyro.sample(\"x\", TruncatedPareto(scale, alpha, low, high).to_event(1), obs=x)\n",
    "\n",
    "x = np.asarray(x)\n",
    "\n",
    "kernel = NUTS(model)\n",
    "mcmc = MCMC(kernel, num_samples=1000, num_warmup=500, num_chains=1)\n",
    "mcmc.run(jax.random.PRNGKey(0), x=x)\n",
    "mcmc.print_summary()"
   ]
  }
 ],
 "metadata": {
  "kernelspec": {
   "display_name": ".venv",
   "language": "python",
   "name": "python3"
  },
  "language_info": {
   "codemirror_mode": {
    "name": "ipython",
    "version": 3
   },
   "file_extension": ".py",
   "mimetype": "text/x-python",
   "name": "python",
   "nbconvert_exporter": "python",
   "pygments_lexer": "ipython3",
   "version": "3.10.11"
  }
 },
 "nbformat": 4,
 "nbformat_minor": 2
}
